{
 "cells": [
  {
   "cell_type": "markdown",
   "metadata": {},
   "source": [
    "# Data Cleaning\n",
    "\n",
    "I used spacy to lemmatize all the data. \n",
    "Data:\n",
    "- lowercase\n",
    "- alphanumeric\n",
    "- no functional words.\n",
    "- tf-idf is used. I used different parameters for TF-IDF vectorizer.\n",
    "\n",
    "I noticed some duplication in training data. I removed those duplications.\n",
    "\n",
    "# Experiments\n",
    "\n",
    "Vanilla experiment (exp 1) uses two different classifiers (SVM and SGD [linear SVM]). I also tried RandomForest but I filtered out that. I tried to optimize hyperparameters but I didn't go well with my current laptop. It takes for a while to do gridsearch. The best F1-weighted accuracy on Dev set was 0.83 with SGD. Because of the skewness of the data I used class_weight params for each classifier but I couldn't search well the parameter space I think; it didn't give good regularization. According to confusion matrix, either I am regularize too much (classifier labels everything with **misc** or too less; classifier labels most of the stuff with majority of classes (**customer**, or **order**). Better hyperparameter optimization is necessary.\n",
    "\n",
    "Another experiment (exp2) uses the same classifiers but this time I tried downsampling, too. I used different fractions of the instances labeled as **order**.\n",
    "\n",
    "Third experiment was using PCA to reduce the dimensions and run the similar experiments. This experiment showed, especially for Random Forest classifier, few number of dimensions (7 for instance) is enough to get .81 weighted F1 score. This is good for scalability.\n",
    "\n",
    "Unfortunately, I couldn't make much experiments on different ngram sizes which may be very helpful. I would try to use bigger ngrams but my machine does not allow me to search the parameter space.\n",
    "\n",
    "# Other remedies to try:\n",
    "\n",
    "1. Train a language model and generate data.\n",
    "2. Regularize better\n",
    "    - more experiment with hyperparams.\n",
    "    - any possibility to give weights to scoring metric? It's possible to give weights to samples, so we can do it. The problem is I'm using grid_search function of sklearn. GridSearch makes the K-Folds inside. It does not allow me to give sample_weight immediately. I think changing sample weights might increase weighted f1, but for this project, I am going to skip this.\n",
    "3. Ensemble: According confusion matrix of each model; the models seem complementary. I might combine those models by VotingClassifier.  \n",
    "4. There are other methods to search hyperspace more efficiently. For instance, random search (http://www.jmlr.org/papers/volume13/bergstra12a/bergstra12a) or Distributed Asynchronous Hyper-parameter Optimization (hyperopt)\n",
    "\n",
    "# Output\n",
    "\n",
    "Lastly, I embed all the data (train + dev) and predict test data for two classifiers with their best settings."
   ]
  },
  {
   "cell_type": "code",
   "execution_count": 1,
   "metadata": {
    "collapsed": false
   },
   "outputs": [],
   "source": [
    "%matplotlib inline\n",
    "import matplotlib\n",
    "import pandas as pd\n",
    "import numpy as np\n",
    "import matplotlib.pyplot as plt\n",
    "import warnings\n",
    "from data import *\n",
    "from utils import *\n",
    "from experiment import *\n",
    "from sklearn.svm import SVC\n",
    "from sklearn.linear_model import SGDClassifier\n",
    "\n",
    "plt.style.use('ggplot')\n",
    "warnings.filterwarnings(action='always')\n",
    "warnings.simplefilter('ignore')"
   ]
  },
  {
   "cell_type": "code",
   "execution_count": 2,
   "metadata": {
    "collapsed": false
   },
   "outputs": [
    {
     "data": {
      "text/plain": [
       "order        2234\n",
       "customer      886\n",
       "shopper       195\n",
       "applicant      43\n",
       "misc            7\n",
       "Name: label, dtype: int64"
      ]
     },
     "execution_count": 2,
     "metadata": {},
     "output_type": "execute_result"
    },
    {
     "data": {
      "image/png": "[encoded data removed]",
      "text/plain": [
       "<Figure size 432x288 with 1 Axes>"
      ]
     },
     "metadata": {},
     "output_type": "display_data"
    }
   ],
   "source": [
    "# Train/dev label dist.\n",
    "dataset = get_data_path()\n",
    "dev_df = read_data(dataset['dev'])\n",
    "train_df = read_data(dataset['train'])\n",
    "\n",
    "draw_label_dist(train_df)\n",
    "train_df['label'].value_counts()"
   ]
  },
  {
   "cell_type": "code",
   "execution_count": 3,
   "metadata": {
    "collapsed": false
   },
   "outputs": [
    {
     "data": {
      "image/png": "[encoded data removed]",
      "text/plain": [
       "<Figure size 432x288 with 1 Axes>"
      ]
     },
     "metadata": {},
     "output_type": "display_data"
    }
   ],
   "source": [
    "draw_label_dist(dev_df)"
   ]
  },
  {
   "cell_type": "code",
   "execution_count": 13,
   "metadata": {
    "collapsed": false
   },
   "outputs": [
    {
     "name": "stdout",
     "output_type": "stream",
     "text": [
      "applicant\n",
      "[('i', 789), ('you', 646), ('and', 431), ('that', 422), ('the', 417), ('to', 308), ('okay', 303), ('for', 282), ('so', 245), ('on', 203), ('have', 196), ('my', 193), ('a', 184), ('is', 170), ('your', 167), (\"i'm\", 154), ('yeah', 154), ('thank', 143), ('can', 142), ('it', 141), ('one', 135), ('alright', 131), ('do', 129), ('in', 125), ('like', 111), ('just', 109), ('me', 107), ('what', 107), ('now', 104), ('with', 100), ('go', 99), ('know', 98), ('not', 96), ('no', 92), ('but', 91), ('be', 87), (\"that's\", 86), ('here', 84), ('right', 80), ('there', 77), ('phone', 75), (\"don't\", 74), ('order', 73), ('was', 73), ('then', 71), ('or', 69), ('see', 69), ('of', 69), ('account', 67), ('yes', 66)]\n",
      "\n",
      "customer\n",
      "[('i', 12863), ('you', 10395), ('the', 6567), ('that', 6543), ('and', 6343), ('okay', 6028), ('for', 5217), ('so', 4514), ('to', 3996), ('my', 3397), ('thank', 3240), ('one', 2919), (\"i'm\", 2696), ('on', 2657), ('have', 2546), ('alright', 2379), ('is', 2359), ('a', 2334), ('can', 2316), ('yeah', 2260), ('me', 2205), ('it', 2202), ('your', 1980), ('just', 1971), ('here', 1788), ('with', 1748), ('account', 1738), ('was', 1616), ('no', 1575), ('like', 1572), ('right', 1511), ('know', 1508), ('in', 1489), ('this', 1427), ('now', 1410), (\"don't\", 1327), ('phone', 1267), ('not', 1264), (\"that's\", 1248), ('do', 1178), ('what', 1172), ('see', 1158), ('but', 1108), ('there', 1106), ('go', 1065), ('we', 1058), ('be', 1025), ('yes', 995), ('today', 989), ('then', 977)]\n",
      "\n",
      "misc\n",
      "[('i', 52), ('you', 47), ('the', 36), ('okay', 24), ('to', 22), ('and', 22), ('that', 22), ('for', 19), ('so', 15), ('thank', 14), ('my', 13), ('phone', 11), ('number', 10), ('yeah', 10), (\"i'm\", 10), ('just', 10), ('is', 9), ('have', 9), ('with', 9), ('a', 9), ('not', 9), ('alright', 9), ('can', 9), ('one', 8), ('up', 8), ('your', 7), ('was', 7), ('on', 7), (\"that's\", 7), ('yes', 7), ('email', 7), ('calling', 6), ('this', 6), ('it', 6), ('or', 6), ('name', 6), ('actually', 5), ('hold', 5), ('no', 5), ('are', 5), ('because', 5), ('if', 4), ('in', 4), ('as', 4), ('she', 4), ('am', 4), ('gonna', 4), ('of', 4), ('get', 4), ('be', 4)]\n",
      "\n",
      "order\n",
      "[('i', 42738), ('you', 27995), ('the', 23541), ('and', 21138), ('that', 20687), ('okay', 19406), ('so', 15600), ('for', 13672), ('to', 13055), ('my', 10053), (\"i'm\", 9579), ('one', 8817), ('on', 8699), ('is', 8070), ('yeah', 7943), ('thank', 7798), ('it', 7795), ('alright', 7559), ('have', 7400), ('me', 7289), ('can', 7149), ('a', 7013), ('just', 6805), ('like', 6133), ('was', 6103), ('with', 5702), ('here', 5680), ('order', 5485), ('your', 5282), ('know', 5163), ('this', 5124), ('no', 5076), ('right', 5014), ('now', 4989), ('in', 4828), ('not', 4748), ('what', 4646), (\"that's\", 4584), ('see', 4366), (\"don't\", 4314), ('there', 4243), ('do', 4118), ('but', 4059), ('then', 3656), ('phone', 3647), ('we', 3518), ('of', 3516), ('be', 3410), ('go', 3402), ('or', 3305)]\n",
      "\n",
      "shopper\n",
      "[('i', 3698), ('you', 2412), ('the', 1927), ('and', 1821), ('that', 1818), ('okay', 1596), ('to', 1187), ('so', 1169), ('for', 982), ('my', 908), (\"i'm\", 873), ('one', 740), ('on', 704), ('me', 662), ('is', 659), ('it', 656), ('yeah', 652), ('know', 642), ('have', 618), ('can', 592), ('just', 590), ('thank', 589), ('like', 582), ('alright', 530), ('a', 527), ('here', 506), ('not', 462), ('was', 459), ('right', 454), ('do', 417), ('now', 415), (\"don't\", 410), ('in', 404), ('this', 398), ('there', 397), ('order', 388), ('but', 385), ('what', 378), ('with', 376), ('no', 373), (\"that's\", 367), ('your', 338), ('then', 323), ('go', 315), ('phone', 309), ('of', 302), ('see', 300), ('be', 296), ('get', 274), ('if', 271)]\n",
      "\n"
     ]
    }
   ],
   "source": [
    "# Frequent (most likely not useful) words.\n",
    "most_common_for_each_labels(train_df)"
   ]
  },
  {
   "cell_type": "code",
   "execution_count": 4,
   "metadata": {
    "collapsed": false
   },
   "outputs": [],
   "source": [
    "# Different sample weights.\n",
    "\n",
    "inverse_weights = calc_inverse_weight_for_labels(train_df)\n",
    "uniform_weights = calc_uniform_weight_for_labels(train_df)\n",
    "weight_df = pd.DataFrame({\"labels\": ['applicant', 'customer', 'misc', 'order', 'shopper'],\n",
    "                         \"weights\": [2., 1.5, 2.1, 1.01, 1.02]})\n",
    "weight_df['weights_2'] = weight_df['weights'] ** 2\n",
    "weight_df['weights_3'] = weight_df['weights'] ** 3.1\n",
    "weights_1 = dict(zip(weight_df['labels'].tolist(), weight_df['weights'].tolist()))\n",
    "weights_2 = dict(zip(weight_df['labels'].tolist(), weight_df['weights_2'].tolist()))\n",
    "weights_3 = dict(zip(weight_df['labels'].tolist(), weight_df['weights_3'].tolist()))"
   ]
  },
  {
   "cell_type": "code",
   "execution_count": 5,
   "metadata": {
    "collapsed": false
   },
   "outputs": [],
   "source": [
    "# Parameter space.\n",
    "\n",
    "stop_words = get_stopwords()\n",
    "\n",
    "tf_idf_params = {\n",
    "    'tfidf__max_df': (0.8, 1.0),\n",
    "    'tfidf__ngram_range': ((1, 1), (1, 2)),  # unigrams or bigrams\n",
    "}\n",
    "\n",
    "sgd_params = {\n",
    "    'clf__alpha': (0.0001, 0.00001, 0.000001),\n",
    "    'clf__penalty': ('l2', 'elasticnet'),\n",
    "    'clf__max_iter': (500, 1000),\n",
    "#     'clf__class_weight': [inverse_weights, uniform_weights]\n",
    "}\n",
    "\n",
    "random_forest_params = {\n",
    "    \"clf__n_estimators\": (10, 20),\n",
    "    \"clf__criterion\": ('gini', 'entropy'),\n",
    "    \"clf__max_depth\": (5, 7, 10, 30),\n",
    "#     'clf__class_weight': [inverse_weights, uniform_weights]\n",
    "}\n",
    "\n",
    "svm_params = {\n",
    "    'clf__C': (1, 10, 100, 1000),\n",
    "    'clf__class_weight': [uniform_weights, weights_1, weights_2, weights_3]\n",
    "}\n",
    "\n",
    "classifiers = [\n",
    "    (SVC(decision_function_shape='ovo'), svm_params),\n",
    "    (SGDClassifier(shuffle=True), sgd_params),\n",
    "#     (RandomForestClassifier(class_weight=uniform_weights), random_forest_params),\n",
    "]"
   ]
  },
  {
   "cell_type": "code",
   "execution_count": 92,
   "metadata": {
    "collapsed": false
   },
   "outputs": [
    {
     "name": "stdout",
     "output_type": "stream",
     "text": [
      "3365 1155\n",
      "Performing grid search...\n",
      "pipeline: ['tfidf', 'clf']\n",
      "parameters:\n",
      "{'clf__C': (1, 10, 100, 1000),\n",
      " 'clf__class_weight': [{'applicant': 1,\n",
      "                        'customer': 1,\n",
      "                        'misc': 1,\n",
      "                        'order': 1,\n",
      "                        'shopper': 1},\n",
      "                       {'applicant': 2.0,\n",
      "                        'customer': 1.5,\n",
      "                        'misc': 2.1,\n",
      "                        'order': 1.01,\n",
      "                        'shopper': 1.02},\n",
      "                       {'applicant': 4.0,\n",
      "                        'customer': 2.25,\n",
      "                        'misc': 4.41,\n",
      "                        'order': 1.0201,\n",
      "                        'shopper': 1.0404},\n",
      "                       {'applicant': 8.574187700290345,\n",
      "                        'customer': 3.514656635974386,\n",
      "                        'misc': 9.97423999265871,\n",
      "                        'order': 1.0313266937978396,\n",
      "                        'shopper': 1.0633115527569217}],\n",
      " 'tfidf__max_df': (0.8, 1.0),\n",
      " 'tfidf__ngram_range': ((1, 1), (1, 2))}\n",
      "Fitting 3 folds for each of 64 candidates, totalling 192 fits\n"
     ]
    },
    {
     "name": "stderr",
     "output_type": "stream",
     "text": [
      "[Parallel(n_jobs=-1)]: Done  42 tasks      | elapsed:  4.7min\n",
      "[Parallel(n_jobs=-1)]: Done 192 out of 192 | elapsed: 20.0min finished\n"
     ]
    },
    {
     "name": "stdout",
     "output_type": "stream",
     "text": [
      "done in 1207.422s\n",
      "\n",
      "Best score: 0.802\n",
      "Best parameters set:\n",
      "\tclf__C: 1000\n",
      "\tclf__class_weight: {'applicant': 2.0, 'customer': 1.5, 'misc': 2.1, 'order': 1.01, 'shopper': 1.02}\n",
      "\ttfidf__max_df: 0.8\n",
      "\ttfidf__ngram_range: (1, 1)\n",
      "Performing grid search...\n",
      "pipeline: ['tfidf', 'clf']\n",
      "parameters:\n",
      "{'clf__alpha': (0.0001, 1e-05, 1e-06),\n",
      " 'clf__max_iter': (500, 1000),\n",
      " 'clf__penalty': ('l2', 'elasticnet'),\n",
      " 'tfidf__max_df': (0.8, 1.0),\n",
      " 'tfidf__ngram_range': ((1, 1), (1, 2))}\n",
      "Fitting 3 folds for each of 48 candidates, totalling 144 fits\n"
     ]
    },
    {
     "name": "stderr",
     "output_type": "stream",
     "text": [
      "[Parallel(n_jobs=-1)]: Done  42 tasks      | elapsed:  4.5min\n",
      "[Parallel(n_jobs=-1)]: Done 144 out of 144 | elapsed: 19.0min finished\n"
     ]
    },
    {
     "name": "stdout",
     "output_type": "stream",
     "text": [
      "done in 1161.862s\n",
      "\n",
      "Best score: 0.801\n",
      "Best parameters set:\n",
      "\tclf__alpha: 0.0001\n",
      "\tclf__max_iter: 500\n",
      "\tclf__penalty: 'elasticnet'\n",
      "\ttfidf__max_df: 0.8\n",
      "\ttfidf__ngram_range: (1, 2)\n",
      "Score on Dev data SVC: 0.8162038175392933\n",
      "Score on Dev data SGDClassifier: 0.8288550382913862\n",
      "array([[2169,    0,    0,    0,   65],\n",
      "       [ 165,    2,    0,    0,   28],\n",
      "       [  13,    0,   26,    0,    4],\n",
      "       [   0,    0,    0,    5,    2],\n",
      "       [ 110,    0,    1,    0,  775]])\n",
      "\n",
      "array([[728,   0,   0,   0,  37],\n",
      "       [ 50,   0,   0,   0,  17],\n",
      "       [ 11,   0,   0,   0,   4],\n",
      "       [  1,   0,   0,   1,   1],\n",
      "       [ 54,   0,   0,   0, 251]])\n",
      "\n",
      "['order', 'shopper', 'applicant', 'misc', 'customer']\n",
      "array([[2169,    0,    0,    0,   65],\n",
      "       [ 165,    2,    0,    0,   28],\n",
      "       [  13,    0,   26,    0,    4],\n",
      "       [   0,    0,    0,    5,    2],\n",
      "       [ 110,    0,    1,    0,  775]])\n",
      "array([[728,   0,   0,   0,  37],\n",
      "       [ 50,   0,   0,   0,  17],\n",
      "       [ 11,   0,   0,   0,   4],\n",
      "       [  1,   0,   0,   1,   1],\n",
      "       [ 54,   0,   0,   0, 251]])\n"
     ]
    }
   ],
   "source": [
    "# Experiment 1.\n",
    "# best_pipes_exp1 = vanilla_experiment(DATASET, classifiers, tf_idf_params)"
   ]
  },
  {
   "cell_type": "code",
   "execution_count": 6,
   "metadata": {
    "collapsed": false
   },
   "outputs": [
    {
     "name": "stdout",
     "output_type": "stream",
     "text": [
      "2471 1155\n",
      "Performing grid search...\n",
      "pipeline: ['tfidf', 'clf']\n",
      "parameters:\n",
      "{'clf__C': (1, 10, 100, 1000),\n",
      " 'clf__class_weight': [{'applicant': 1,\n",
      "                        'customer': 1,\n",
      "                        'misc': 1,\n",
      "                        'order': 1,\n",
      "                        'shopper': 1},\n",
      "                       {'applicant': 2.0,\n",
      "                        'customer': 1.5,\n",
      "                        'misc': 2.1,\n",
      "                        'order': 1.01,\n",
      "                        'shopper': 1.02},\n",
      "                       {'applicant': 4.0,\n",
      "                        'customer': 2.25,\n",
      "                        'misc': 4.41,\n",
      "                        'order': 1.0201,\n",
      "                        'shopper': 1.0404},\n",
      "                       {'applicant': 8.574187700290345,\n",
      "                        'customer': 3.514656635974386,\n",
      "                        'misc': 9.97423999265871,\n",
      "                        'order': 1.0313266937978396,\n",
      "                        'shopper': 1.0633115527569217}],\n",
      " 'tfidf__max_df': (0.8, 1.0),\n",
      " 'tfidf__ngram_range': ((1, 1), (1, 2))}\n",
      "Fitting 3 folds for each of 64 candidates, totalling 192 fits\n"
     ]
    },
    {
     "name": "stderr",
     "output_type": "stream",
     "text": [
      "[Parallel(n_jobs=-1)]: Done  42 tasks      | elapsed:  2.6min\n",
      "[Parallel(n_jobs=-1)]: Done 192 out of 192 | elapsed: 12.6min finished\n"
     ]
    },
    {
     "name": "stdout",
     "output_type": "stream",
     "text": [
      "done in 758.683s\n",
      "\n",
      "Best score: 0.748\n",
      "Best parameters set:\n",
      "\tclf__C: 100\n",
      "\tclf__class_weight: {'applicant': 2.0, 'customer': 1.5, 'misc': 2.1, 'order': 1.01, 'shopper': 1.02}\n",
      "\ttfidf__max_df: 0.8\n",
      "\ttfidf__ngram_range: (1, 1)\n",
      "Performing grid search...\n",
      "pipeline: ['tfidf', 'clf']\n",
      "parameters:\n",
      "{'clf__alpha': (0.0001, 1e-05, 1e-06),\n",
      " 'clf__max_iter': (500, 1000),\n",
      " 'clf__penalty': ('l2', 'elasticnet'),\n",
      " 'tfidf__max_df': (0.8, 1.0),\n",
      " 'tfidf__ngram_range': ((1, 1), (1, 2))}\n",
      "Fitting 3 folds for each of 48 candidates, totalling 144 fits\n"
     ]
    },
    {
     "name": "stderr",
     "output_type": "stream",
     "text": [
      "[Parallel(n_jobs=-1)]: Done  42 tasks      | elapsed:  2.5min\n",
      "[Parallel(n_jobs=-1)]: Done 144 out of 144 | elapsed:  9.8min finished\n"
     ]
    },
    {
     "name": "stdout",
     "output_type": "stream",
     "text": [
      "done in 593.594s\n",
      "\n",
      "Best score: 0.750\n",
      "Best parameters set:\n",
      "\tclf__alpha: 1e-06\n",
      "\tclf__max_iter: 500\n",
      "\tclf__penalty: 'l2'\n",
      "\ttfidf__max_df: 0.8\n",
      "\ttfidf__ngram_range: (1, 2)\n",
      "Score on Dev data SVC: 0.8039857413854203\n",
      "Score on Dev data SGDClassifier: 0.8299050620750452\n",
      "array([[   0,  171,   24,    0,    0],\n",
      "       [   0, 1266,   74,    0,    0],\n",
      "       [   0,  160,  726,    0,    0],\n",
      "       [   0,    3,    4,    0,    0],\n",
      "       [   0,   32,   11,    0,    0]])\n",
      "\n",
      "array([[  0,  53,  14,   0,   0],\n",
      "       [  0, 716,  49,   0,   0],\n",
      "       [  0,  55, 250,   0,   0],\n",
      "       [  0,   1,   2,   0,   0],\n",
      "       [  0,  12,   3,   0,   0]])\n",
      "\n",
      "['shopper', 'order', 'customer', 'misc', 'applicant']\n",
      "array([[ 195,    0,    0,    0,    0],\n",
      "       [   0, 1340,    0,    0,    0],\n",
      "       [   0,    0,  886,    0,    0],\n",
      "       [   0,    0,    0,    7,    0],\n",
      "       [   0,    0,    0,    0,   43]])\n",
      "\n",
      "array([[  5,  51,  11,   0,   0],\n",
      "       [  2, 718,  45,   0,   0],\n",
      "       [  0,  36, 269,   0,   0],\n",
      "       [  0,   1,   1,   1,   0],\n",
      "       [  0,  12,   3,   0,   0]])\n",
      "\n",
      "['shopper', 'order', 'customer', 'misc', 'applicant']\n"
     ]
    },
    {
     "data": {
      "image/png": "[encoded data removed]",
      "text/plain": [
       "<Figure size 432x288 with 1 Axes>"
      ]
     },
     "metadata": {},
     "output_type": "display_data"
    }
   ],
   "source": [
    "# Experiment 2.\n",
    "best_pipes_exp2 = run_downsample_experiment(DATASET, classifiers, tf_idf_params, frac=0.6, stop_words=get_stopwords())"
   ]
  },
  {
   "cell_type": "code",
   "execution_count": 60,
   "metadata": {
    "collapsed": false
   },
   "outputs": [
    {
     "data": {
      "image/png": "[encoded data removed]",
      "text/plain": [
       "<Figure size 288x216 with 1 Axes>"
      ]
     },
     "metadata": {},
     "output_type": "display_data"
    }
   ],
   "source": [
    "train_df = read_data(dataset['train'])\n",
    "dev_df = read_data(dataset['dev'])\n",
    "X_train, y_train, X_dev, y_dev = get_train_dev_data(train_df, dev_df)\n",
    "pca = dim_reduction_with_pca(X_train, vectorizer=None)\n",
    "draw_explained_variance(pca)"
   ]
  },
  {
   "cell_type": "code",
   "execution_count": null,
   "metadata": {
    "collapsed": false
   },
   "outputs": [],
   "source": [
    "best_pipes = best_pipes_exp2\n",
    "for pipe in best_pipes:\n",
    "    calc_score_on_dev_after_dim_reduction(pipe.get_params()['clf'], X_train, y_train, X_dev, y_dev, stop_words=stop_words)"
   ]
  },
  {
   "cell_type": "code",
   "execution_count": 36,
   "metadata": {
    "collapsed": false
   },
   "outputs": [
    {
     "name": "stdout",
     "output_type": "stream",
     "text": [
      "2695 772\n",
      "3467 3467\n"
     ]
    },
    {
     "data": {
      "text/plain": [
       "array(['customer', 'order', 'customer', ..., 'order', 'customer', 'order'],\n",
       "      dtype='<U9')"
      ]
     },
     "execution_count": 36,
     "metadata": {},
     "output_type": "execute_result"
    }
   ],
   "source": [
    "from constants import NLP\n",
    "from copy import deepcopy\n",
    "\n",
    "def prepare_data(df, no_label=False, nlp=NLP):\n",
    "    X = lemmatize_data(df['text'].tolist(), nlp)\n",
    "    if no_label:\n",
    "        return X\n",
    "    \n",
    "    y = df['label'].tolist()\n",
    "    return X, y\n",
    "\n",
    "def get_test_data(df, nlp=NLP):\n",
    "    return prepare_data(df, nlp=NLP, no_label=True)\n",
    "\n",
    "test_df = read_data(dataset['test'])\n",
    "X_test = get_test_data(test_df)\n",
    "\n",
    "best_pipeline = best_pipes_exp2[1]\n",
    "train_df = read_data(dataset['train'])\n",
    "dev_df = read_data(dataset['dev'])\n",
    "\n",
    "train_df = downsample_train_data(train_df, frac=0.7) # downsample 'order' class for train.  \n",
    "dev_df = downsample_train_data(dev_df, frac=0.5) # downsample 'order' class for dev.\n",
    "\n",
    "X_train, y_train, X_dev, y_dev = get_train_dev_data(train_df, dev_df)\n",
    "\n",
    "print(len(X_train), len(X_dev))\n",
    "        \n",
    "pred_test_with_best_model(best_pipeline, X_train, y_train, X_dev, y_dev, X_test)"
   ]
  }
 ],
 "metadata": {
  "anaconda-cloud": {},
  "kernelspec": {
   "display_name": "Python [coarse-wsd-3]",
   "language": "python",
   "name": "Python [coarse-wsd-3]"
  },
  "language_info": {
   "codemirror_mode": {
    "name": "ipython",
    "version": 3
   },
   "file_extension": ".py",
   "mimetype": "text/x-python",
   "name": "python",
   "nbconvert_exporter": "python",
   "pygments_lexer": "ipython3",
   "version": "3.6.1"
  }
 },
 "nbformat": 4,
 "nbformat_minor": 0
}
